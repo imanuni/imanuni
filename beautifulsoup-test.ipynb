{
  "nbformat": 4,
  "nbformat_minor": 0,
  "metadata": {
    "colab": {
      "provenance": [],
      "include_colab_link": true
    },
    "kernelspec": {
      "name": "python3",
      "display_name": "Python 3"
    },
    "language_info": {
      "name": "python"
    }
  },
  "cells": [
    {
      "cell_type": "markdown",
      "metadata": {
        "id": "view-in-github",
        "colab_type": "text"
      },
      "source": [
        "<a href=\"https://colab.research.google.com/github/imanuni/imanuni/blob/main/beautifulsoup-test.ipynb\" target=\"_parent\"><img src=\"https://colab.research.google.com/assets/colab-badge.svg\" alt=\"Open In Colab\"/></a>"
      ]
    },
    {
      "cell_type": "code",
      "source": [
        "!pip install BeautifulSoup4\n",
        "!pip install requests"
      ],
      "metadata": {
        "colab": {
          "base_uri": "https://localhost:8080/"
        },
        "id": "huptlLvSEDMU",
        "outputId": "788f3f2a-bdc5-4d80-d8cd-d6aa443f9ed6"
      },
      "execution_count": 1,
      "outputs": [
        {
          "output_type": "stream",
          "name": "stdout",
          "text": [
            "Requirement already satisfied: BeautifulSoup4 in /usr/local/lib/python3.10/dist-packages (4.12.3)\n",
            "Requirement already satisfied: soupsieve>1.2 in /usr/local/lib/python3.10/dist-packages (from BeautifulSoup4) (2.5)\n",
            "Requirement already satisfied: requests in /usr/local/lib/python3.10/dist-packages (2.31.0)\n",
            "Requirement already satisfied: charset-normalizer<4,>=2 in /usr/local/lib/python3.10/dist-packages (from requests) (3.3.2)\n",
            "Requirement already satisfied: idna<4,>=2.5 in /usr/local/lib/python3.10/dist-packages (from requests) (3.7)\n",
            "Requirement already satisfied: urllib3<3,>=1.21.1 in /usr/local/lib/python3.10/dist-packages (from requests) (2.0.7)\n",
            "Requirement already satisfied: certifi>=2017.4.17 in /usr/local/lib/python3.10/dist-packages (from requests) (2024.2.2)\n"
          ]
        }
      ]
    },
    {
      "cell_type": "code",
      "execution_count": null,
      "metadata": {
        "colab": {
          "base_uri": "https://localhost:8080/"
        },
        "collapsed": true,
        "id": "pryZuAF-D6qh",
        "outputId": "b3e49d04-5518-4f8c-b9cc-b49182aeb246"
      },
      "outputs": [
        {
          "output_type": "stream",
          "name": "stdout",
          "text": [
            "\n",
            "                                        \"ذا سبيكتاتور\": إستراتيجية نتنياهو في رفح لا تنجح                                    \n",
            "\n",
            "                                        وزير الخارجية السوري ونظيره الصيني يدعوان لتعزيز العلاقات بين البلدين ووقف الحرب على غزّة                                     \n",
            "\n",
            "                                        حفل تأبيني للشهيد رئيسي ورفاقه في المدرسة الحسينية في دمشق                                    \n",
            "\n",
            "                                        الجزائر تطرح مشروع قرار في مجلس الأمن لوقف القتل في رفح                                    \n",
            "\n",
            "                                        بسبب العدوان على غزة.. مسؤولة رفيعة في الخارجية الأميركية تستقيل                                    \n",
            "\n",
            "                                        البرلمان الفرنسي يعلّق عضوية نائب بعد رفعه العلم الفلسطيني                                    \n",
            "\n",
            "                                        الصحف الإيرانية: مهمّة ثقيلة بانتظار مجلس الشورى                                    \n",
            "\n",
            "                                        الاتحاد الأوروبي يبحث فرض العقوبات على \"إسرائيل\"                                    \n",
            "\n",
            "                                        لتجنب التحقيق بجرائم حرب.. \"الموساد\" هدَّد المدعية العامة للجنائية الدولية                                    \n",
            "\n",
            "                                        شخصيات وقوى عراقية تعزي السيد نصر الله برحيل والدته                                    \n",
            "\n",
            "                                        النرويج وإسبانيا وأيرلندا تُعلن رسميًا الاعتراف بدولة فلسطين                                    \n",
            "\n",
            "                                        فيديو: مشاهد من إطلاق المقاومة الإسلامية في العراق طيرانًا مسيّرًا اتجاه هدف حيوي في ايلات \"أم الرشراش\"                                    \n",
            "\n",
            "                                        نيجيريا: مقتل 8 أشخاص واختطاف 150 آخرين في هجوم مسلح                                    \n",
            "\n",
            "                                        القلق الصهيوني من توسّع علاقات طهران محور اهتمام الصحف الإيرانية                                     \n",
            "\n",
            "                                        الآلاف في العالم يشاركون في مظاهرات حاشدة تنديدًا بمجزرة رفح                                    \n",
            "\n",
            "                                        إيران: إعادة انتخاب قاليباف رئيسًا لمجلس الشورى الإسلامي                                    \n",
            "\n",
            "                                        دول في الاتحاد الأوروبي تدعو لفرض عقوبات على \"إسرائيل\"                                    \n",
            "\n",
            "                                        ابنتا السيد نصر الله والشهيد عباس الموسوي تلتقيان عائلة الشهيد رئيسي                                    \n",
            "\n",
            "                                        باقري كني: سياسة تعزيز وتعميق العلاقات مع الجيران ستستمر                                    \n",
            "\n",
            "                                        مخبر: استراتيجية توسع العلاقات مع عمان مستمرة كما أراد السيّد رئيسي                                    \n",
            "\n",
            "                                        استشهاد جندي مصري جراء تبادل لإطلاق النار مع قوات الاحتلال في معبر رفح                                    \n",
            "\n",
            "                                        ترحيب عراقي بقرار محكمة العدل الدولية إدانة العدوان الصهيوني على غزة                                    \n",
            "\n",
            "                                        هل يغيّر جيل الشباب \"زد\" وجه السياسة الأميركية الداعمة لـ\"إسرائيل\"؟                                    \n",
            "\n",
            "                                        الخارجية الإيرانية: دعم إيران لفلسطين لن ينقطع                                    \n",
            "\n",
            "                                        الصحف الإيرانية: العدو في مأزق جديد                                    \n",
            "\n",
            "                                        الإمام الخامنئي لمجلس الشورى الإسلامي: العمل الرئيسي لكل عضو بالبرلمان توفير المصلحة الوطنية                                    \n",
            "\n",
            "                                        الإمام الخامنئي معزيًا السيّد نصر الله برحيل والدته: يكفيها كرامة أنّ سيّد المقاومة المناضل خرج من حجرها الطّاهر                                    \n",
            "\n",
            "                                        الداخلية الإيرانية تعلن جاهزيتها لتلقي طلبات الترشّح للانتخابات الرئاسية                                    \n",
            "\n",
            "                                        الرئيس الأسد يُبرق معزيًا للسيد نصر الله: الحاجة أم حسن أسهمت في حياة لبنان والمنطقة                                    \n",
            "\n",
            "                                        الصحف الإيرانية: تسونامي عالمي ضد \"تل أبيب\"                                    \n"
          ]
        }
      ],
      "source": [
        "from bs4 import BeautifulSoup\n",
        "import requests\n",
        "\n",
        "\n",
        "\n",
        "url=f\"https://www.alahednews.com.lb/catdetails.php?catid=116\"\n",
        "result=requests.get(url)\n",
        "doc = BeautifulSoup(result.text,\"html.parser\")\n",
        "gpu_containers = doc.find_all(class_=\"col-md-6\")\n",
        "\n",
        "for title_tag in gpu_containers:\n",
        "  try:\n",
        "    print(title_tag.find(class_=\"card-title\").string)\n",
        "  except:\n",
        "    continue\n",
        "\n",
        "\n",
        "\n",
        "\n"
      ]
    },
    {
      "cell_type": "code",
      "source": [
        "from bs4 import BeautifulSoup\n",
        "import requests\n",
        "\n",
        "\n",
        "\n",
        "url=\"https://www.tayyar.org/News/Lebanon\"\n",
        "response = requests.get(url)\n",
        "soup = BeautifulSoup(response.text,'html.parser')\n",
        "\n",
        "paragraphs = soup.find_all(class_=\"desc\")\n",
        "for paragraph in paragraphs:\n",
        "        text = paragraph.text.strip()\n",
        "        print(text)\n",
        "\n"
      ],
      "metadata": {
        "id": "05Y1RTIhKb4D",
        "outputId": "97ef9885-9bd2-44e5-d723-cb84b87c89c8",
        "colab": {
          "base_uri": "https://localhost:8080/"
        }
      },
      "execution_count": null,
      "outputs": [
        {
          "output_type": "stream",
          "name": "stdout",
          "text": [
            "شو الوضع؟ بري للودريان: أنا باب انتخاب الرئيس لا حوار الخارج... والمخرج رهن تفاعل الإرادة الداخلية مع المظلة الدولية\n",
            "المقاومة: استهداف موقع راميا بقذائف المدفعيّة وإصابته مباشرة\n",
            "مصادر التيار عن اتهامات سلام: عليه الاعتذار عمّا نطق به من زور!\n",
            "جديد التحقيقات في جريمة إطلاق النار على رئيس بلدية بقاعصفرين...إحالة 4 موقوفين إلى القاضي الحجار\n",
            "نهائي دوري أبطال أوروبا مجاناً على شاشةٍ عملاقة في بيروت\n",
            "اليكم تسعيرة المولدات عن شهر أيار...!\n",
            "{{article.title | limitTo:100}}\n"
          ]
        }
      ]
    },
    {
      "cell_type": "code",
      "source": [
        "import requests\n",
        "from bs4 import BeautifulSoup\n",
        "import csv\n",
        "\n",
        "\n",
        "def fetch_data_from_site_1(url):\n",
        "\n",
        "  response = requests.get(url)\n",
        "  soup = BeautifulSoup(response.text, 'html.parser')\n",
        "  headlines = soup.find_all(class_=\"card-title\")\n",
        "  for headline in headlines:\n",
        "        text = headline.text.strip()\n",
        "        print(text)\n",
        "\n",
        "\n",
        "\n",
        "\n",
        "def fetch_data_from_site_2(url):\n",
        "\n",
        "  response = requests.get(url)\n",
        "  soup= BeautifulSoup(response.text,'html.parser')\n",
        "  paragraphs = soup.find_all(class_=\"desc\")\n",
        "  for paragraph in paragraphs:\n",
        "    text = paragraph.text.strip()\n",
        "  print(text)\n",
        "\n",
        "\n",
        "def main():\n",
        "\n",
        "    url = input(\"أدخل URL للموقع: \")\n",
        "\n",
        "    site_1 = \"https://www.alahednews.com.lb/catdetails.php?catid=116\"\n",
        "    site_2 = \"https://www.tayyar.org/News/Lebanon\"\n",
        "\n",
        "    if site_1 in url:\n",
        "      fetch_data_from_site_1(url)\n",
        "      site1_details=[]\n",
        "      site1_details.append({\"الاقتباس\":text})\n",
        "      keys=site1_details[0].keys()\n",
        "      with open('documents/testing/ikibas.csv','W') as output_file:\n",
        "        dict_writer=csv.DictWriter(output_file,keys)\n",
        "        dict_writer.writeheader\n",
        "        dict_writer.writerows(site1_details)\n",
        "        print(\"file created\")\n",
        "\n",
        "    elif site_2 in url:\n",
        "      fetch_data_from_site_2(url)\n",
        "      site2_details=[]\n",
        "      site2_details.append({\"الاقتباس\":text})\n",
        "      keys=site2_details[0].keys()\n",
        "      with open('documents/testing/ikibas.csv','W') as output_file:\n",
        "        dict_writer=csv.DictWriter(output_file,keys)\n",
        "        dict_writer.writeheader\n",
        "        dict_writer.writerows(site2_details)\n",
        "        print(\"file created\")\n",
        "\n",
        "    else:\n",
        "            print(\"الموقع غير مدعوم.\")\n",
        "\n",
        "if __name__ == \"__main__\":\n",
        "    main()"
      ],
      "metadata": {
        "id": "1KDQ-9tjN07I",
        "outputId": "20659fff-c826-4cc3-b96a-5531d04cf9ed",
        "colab": {
          "base_uri": "https://localhost:8080/",
          "height": 835
        }
      },
      "execution_count": 21,
      "outputs": [
        {
          "output_type": "stream",
          "name": "stdout",
          "text": [
            "أدخل URL للموقع: https://www.alahednews.com.lb/catdetails.php?catid=116\"\n",
            "بالصور| \"غزّة المظلومة المقاومة\".. لقاء دولي في طهران\n",
            "ترحيب عراقي بقرار مجلس الأمن إنهاء مهمّة بعثة \"يونامي\" بنهاية عام 2025\n",
            "بسبب حربه على غزّة.. كيان العدوّ يواجه ضغوطًا عالمية متزايدة\n",
            "رسالة الإمام الخامنئي للطلاب الجامعيين في أميركا وأبعادها.. محور الاهتمام الصحف الإيرانية\n",
            "احتقان داخلي مرتقب في أميركا بسبب إدانة ترامب\n",
            "جامعة بلجيكية تعلّق التعاون مع مؤسسات الاحتلال\n",
            "طرد ممرّضة من إحدى مستشفيات أميركا بسبب دعمها غزة\n",
            "الأسد ومخبر يشددان على عمق العلاقة الإستراتيجية بين سورية وإيران\n",
            "كاتب أميركي: الولايات المتحدة قد تخسر الحرب الباردة الجديدة أمام الصين وروسيا\n",
            "الإمام الخامنئي يستقبل الرئيس الأسد: المقاومة هوية سورية المميزة\n",
            "المفوض العام لـ\"الأونروا\": للتحرك العاجل لوقف الاعتداءات \"الإسرائيلية\" على الوكالة\n",
            "قاليباف: لوضع حدٍ للهمجية الصهيونية التي تُهدّد إنجازات الحضارة الإنسانية\n",
            "العراق يترأس مجلس وزراء الإعلام العرب لعام 2025\n",
            "روسيا تهدد بالردع النووي إذا نشرت واشنطن صواريخها في أوروبا وآسيا والمحيط الهادئ\n",
            "فتح باب الترشّح للانتخابات الرئاسية في إيران\n",
            "الرئيس الصيني: ندعم بثبات إقامة دولة فلسطينية مستقلة ذات سيادة كاملة\n",
            "بيونغ يانغ تطلق وابلًا من الصواريخ الباليستية وسيول وطوكيو تنتقدان\n",
            "الصحف الإيرانية: جنون الاحتلال الصهيوني وصل إلى أعلى مستوياته\n",
            "الإمام الخامنئي لطلاب الجامعات الأميركية: أنتم تشكلون الآن جزءًا من جبهة المقاومة\n",
            "\"بوليتيكو\": نتنياهو مستاء من موقف واشنطن حيال المحكمة الجنائية الدولية\n",
            "سورية: استشهاد طفلة وإصابة 10 مدنيين جراء عدوان صهيوني على المنطقة الوسطى وبانياس\n",
            "خبراء قانونيون: \"إسرائيل\" انتهكت اتفاقية روما ويجب أن تخضع للمساءلة\n",
            "الأركان الايرانية تستبعد وقوع انفجار تخريبي في مروحية الشهيد السيد رئيسي\n",
            "\"ذا سبيكتاتور\": إستراتيجية نتنياهو في رفح لا تنجح\n",
            "وزير الخارجية السوري ونظيره الصيني يدعوان لتعزيز العلاقات بين البلدين ووقف الحرب على غزّة\n",
            "حفل تأبيني للشهيد رئيسي ورفاقه في المدرسة الحسينية في دمشق\n",
            "الجزائر تطرح مشروع قرار في مجلس الأمن لوقف القتل في رفح\n",
            "بسبب العدوان على غزة.. مسؤولة رفيعة في الخارجية الأميركية تستقيل\n",
            "البرلمان الفرنسي يعلّق عضوية نائب بعد رفعه العلم الفلسطيني\n",
            "الصحف الإيرانية: مهمّة ثقيلة بانتظار مجلس الشورى\n"
          ]
        },
        {
          "output_type": "error",
          "ename": "NameError",
          "evalue": "name 'text' is not defined",
          "traceback": [
            "\u001b[0;31m---------------------------------------------------------------------------\u001b[0m",
            "\u001b[0;31mNameError\u001b[0m                                 Traceback (most recent call last)",
            "\u001b[0;32m<ipython-input-21-1a584e56956c>\u001b[0m in \u001b[0;36m<cell line: 60>\u001b[0;34m()\u001b[0m\n\u001b[1;32m     59\u001b[0m \u001b[0;34m\u001b[0m\u001b[0m\n\u001b[1;32m     60\u001b[0m \u001b[0;32mif\u001b[0m \u001b[0m__name__\u001b[0m \u001b[0;34m==\u001b[0m \u001b[0;34m\"__main__\"\u001b[0m\u001b[0;34m:\u001b[0m\u001b[0;34m\u001b[0m\u001b[0;34m\u001b[0m\u001b[0m\n\u001b[0;32m---> 61\u001b[0;31m     \u001b[0mmain\u001b[0m\u001b[0;34m(\u001b[0m\u001b[0;34m)\u001b[0m\u001b[0;34m\u001b[0m\u001b[0;34m\u001b[0m\u001b[0m\n\u001b[0m",
            "\u001b[0;32m<ipython-input-21-1a584e56956c>\u001b[0m in \u001b[0;36mmain\u001b[0;34m()\u001b[0m\n\u001b[1;32m     36\u001b[0m       \u001b[0mfetch_data_from_site_1\u001b[0m\u001b[0;34m(\u001b[0m\u001b[0murl\u001b[0m\u001b[0;34m)\u001b[0m\u001b[0;34m\u001b[0m\u001b[0;34m\u001b[0m\u001b[0m\n\u001b[1;32m     37\u001b[0m       \u001b[0msite1_details\u001b[0m\u001b[0;34m=\u001b[0m\u001b[0;34m[\u001b[0m\u001b[0;34m]\u001b[0m\u001b[0;34m\u001b[0m\u001b[0;34m\u001b[0m\u001b[0m\n\u001b[0;32m---> 38\u001b[0;31m       \u001b[0msite1_details\u001b[0m\u001b[0;34m.\u001b[0m\u001b[0mappend\u001b[0m\u001b[0;34m(\u001b[0m\u001b[0;34m{\u001b[0m\u001b[0;34m\"الاقتباس\"\u001b[0m\u001b[0;34m:\u001b[0m\u001b[0mtext\u001b[0m\u001b[0;34m}\u001b[0m\u001b[0;34m)\u001b[0m\u001b[0;34m\u001b[0m\u001b[0;34m\u001b[0m\u001b[0m\n\u001b[0m\u001b[1;32m     39\u001b[0m       \u001b[0mkeys\u001b[0m\u001b[0;34m=\u001b[0m\u001b[0msite1_details\u001b[0m\u001b[0;34m[\u001b[0m\u001b[0;36m0\u001b[0m\u001b[0;34m]\u001b[0m\u001b[0;34m.\u001b[0m\u001b[0mkeys\u001b[0m\u001b[0;34m(\u001b[0m\u001b[0;34m)\u001b[0m\u001b[0;34m\u001b[0m\u001b[0;34m\u001b[0m\u001b[0m\n\u001b[1;32m     40\u001b[0m       \u001b[0;32mwith\u001b[0m \u001b[0mopen\u001b[0m\u001b[0;34m(\u001b[0m\u001b[0;34m'documents/testing/ikibas.csv'\u001b[0m\u001b[0;34m,\u001b[0m\u001b[0;34m'W'\u001b[0m\u001b[0;34m)\u001b[0m \u001b[0;32mas\u001b[0m \u001b[0moutput_file\u001b[0m\u001b[0;34m:\u001b[0m\u001b[0;34m\u001b[0m\u001b[0;34m\u001b[0m\u001b[0m\n",
            "\u001b[0;31mNameError\u001b[0m: name 'text' is not defined"
          ]
        }
      ]
    },
    {
      "cell_type": "code",
      "source": [
        "import requests\n",
        "from bs4 import BeautifulSoup\n",
        "import re\n",
        "\n",
        "def filter_sentences(text, keywords):\n",
        "    sentences = text.split(\".\")\n",
        "    filtered_sentences = []\n",
        "    for sentence in sentences:\n",
        "        sentence = sentence.strip()\n",
        "        for keyword in keywords:\n",
        "            if sentence.startswith(keyword + \" :\"):\n",
        "                filtered_sentences.append(sentence)\n",
        "    return filtered_sentences\n",
        "\n",
        "\n",
        "def fetch_data_from_site_1(url, keywords):\n",
        "\n",
        "    response = requests.get(url)\n",
        "    soup = BeautifulSoup(response.text, 'html.parser')\n",
        "\n",
        "    headlines = soup.find_all(class_=\"card-title\")\n",
        "    for headline in headlines:\n",
        "        text = headline.text.strip()\n",
        "        filtered_sentences = filter_sentences(text, keywords)\n",
        "        for sentence in filtered_sentences:\n",
        "            print(sentence)\n",
        "\n",
        "def fetch_data_from_site_2(url,keywords):\n",
        "  response = requests.get(url)\n",
        "  soup = BeautifulSoup(response.text,'html.parser')\n",
        "\n",
        "  paragraphs = soup.find_all(class_=\"desc\")\n",
        "  for paragraph in paragraphs:\n",
        "    text = paragraph.text.strip()\n",
        "    filtered_sentences = filter_sentences(text, keywords)\n",
        "    for sentence in filtered_sentences:\n",
        "       print(sentence)\n",
        "\n",
        "\n",
        "def main():\n",
        "\n",
        "    url = input(\"أدخل URL للموقع: \")\n",
        "\n",
        "    # قائمة المواقع المدعومة\n",
        "    site_1 = \"https://www.alahednews.com.lb/catdetails.php?catid=116\"\n",
        "    site_2 = \"https://www.tayyar.org/News/Lebanon\"\n",
        "\n",
        "    keywords = [\"بري\", \"بالفيديو\",\"نصر الله\", \"قائد الجيش\"]\n",
        "\n",
        "    if site_1 in url:\n",
        "      fetch_data_from_site_1(url,keywords)\n",
        "    elif site_2 in url:\n",
        "      fetch_data_from_site_2(url,keywords)\n",
        "    else:\n",
        "            print(\"الموقع غير مدعوم.\")\n",
        "\n",
        "if __name__ == \"__main__\":\n",
        "    main()"
      ],
      "metadata": {
        "id": "2luSUboekqVB",
        "outputId": "832f31df-9762-421f-f5f1-ab6aac9b27a1",
        "colab": {
          "base_uri": "https://localhost:8080/"
        }
      },
      "execution_count": null,
      "outputs": [
        {
          "name": "stdout",
          "output_type": "stream",
          "text": [
            "أدخل URL للموقع: https://www.alahednews.com.lb/catdetails.php?catid=116\n"
          ]
        }
      ]
    }
  ]
}