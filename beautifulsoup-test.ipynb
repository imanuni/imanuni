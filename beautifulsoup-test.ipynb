{
  "nbformat": 4,
  "nbformat_minor": 0,
  "metadata": {
    "colab": {
      "provenance": [],
      "authorship_tag": "ABX9TyPI8vQ2rX1Bk0CkpFjJiRUG",
      "include_colab_link": true
    },
    "kernelspec": {
      "name": "python3",
      "display_name": "Python 3"
    },
    "language_info": {
      "name": "python"
    }
  },
  "cells": [
    {
      "cell_type": "markdown",
      "metadata": {
        "id": "view-in-github",
        "colab_type": "text"
      },
      "source": [
        "<a href=\"https://colab.research.google.com/github/imanuni/imanuni/blob/main/beautifulsoup-test.ipynb\" target=\"_parent\"><img src=\"https://colab.research.google.com/assets/colab-badge.svg\" alt=\"Open In Colab\"/></a>"
      ]
    },
    {
      "cell_type": "code",
      "source": [
        "!pip install BeautifulSoup4\n",
        "!pip install requests"
      ],
      "metadata": {
        "colab": {
          "base_uri": "https://localhost:8080/"
        },
        "id": "huptlLvSEDMU",
        "outputId": "2b158fda-d6c7-4b14-84bb-4e286c727043"
      },
      "execution_count": 2,
      "outputs": [
        {
          "output_type": "stream",
          "name": "stdout",
          "text": [
            "Requirement already satisfied: BeautifulSoup4 in /usr/local/lib/python3.10/dist-packages (4.12.3)\n",
            "Requirement already satisfied: soupsieve>1.2 in /usr/local/lib/python3.10/dist-packages (from BeautifulSoup4) (2.5)\n",
            "Requirement already satisfied: requests in /usr/local/lib/python3.10/dist-packages (2.31.0)\n",
            "Requirement already satisfied: charset-normalizer<4,>=2 in /usr/local/lib/python3.10/dist-packages (from requests) (3.3.2)\n",
            "Requirement already satisfied: idna<4,>=2.5 in /usr/local/lib/python3.10/dist-packages (from requests) (3.7)\n",
            "Requirement already satisfied: urllib3<3,>=1.21.1 in /usr/local/lib/python3.10/dist-packages (from requests) (2.0.7)\n",
            "Requirement already satisfied: certifi>=2017.4.17 in /usr/local/lib/python3.10/dist-packages (from requests) (2024.2.2)\n"
          ]
        }
      ]
    },
    {
      "cell_type": "code",
      "execution_count": 27,
      "metadata": {
        "colab": {
          "base_uri": "https://localhost:8080/"
        },
        "collapsed": true,
        "id": "pryZuAF-D6qh",
        "outputId": "92e2d0da-6744-4fa3-da9c-dfe65f4690db"
      },
      "outputs": [
        {
          "output_type": "stream",
          "name": "stdout",
          "text": [
            "\n",
            "                                        الداخلية الإيرانية تعلن جاهزيتها لتلقي طلبات الترشّح للانتخابات الرئاسية                                    \n",
            "\n",
            "                                        الرئيس الأسد يُبرق معزيًا للسيد نصر الله: الحاجة أم حسن أسهمت في حياة لبنان والمنطقة                                    \n",
            "\n",
            "                                        الصحف الإيرانية: تسونامي عالمي ضد \"تل أبيب\"                                    \n",
            "\n",
            "                                        الصحف الإيرانية: شهادة السيد رئيسي أحيت أمة إيران من جديد                                    \n",
            "\n",
            "                                        محكمة العدل الدولية تأمر الاحتلال بوقف الهجوم على رفح فورًا وفتح معبرها                                    \n",
            "\n",
            "                                        تشييع حاشد في تركيا للشهيد حسن ساكلانان منفذ عملية الطعن في القدس                                    \n",
            "\n",
            "                                        \"واشنطن بوست\": عزلة \"إسرائيل\" على الساحة العالمية تتعمّق                                    \n",
            "\n",
            "                                        ردًا على اعترافها بدولة فلسطين.. العدوّ يمنع قنصلية إسبانيا من تقديم خدمات للفلسطينيين                                     \n",
            "\n",
            "                                        سفارة إيران في تونس تواصل تلقي التعازي بالشهيد الرئيس رئيسي ورفاقه                                     \n",
            "\n",
            "                                        هيئة الأركان الإيرانية تصدر تقريرها الأولي عن حادث تحطم مروحية الرئيس الشهيد                                    \n",
            "\n",
            "                                        عبر الطائرات المسيّرة.. المقاومة الإسلامية في العراق تستهدف ميناء \"حيفا\"                                     \n",
            "\n",
            "                                        الوداع الأخير.. ختام مراسم تشييع الشهيد السيد رئيسي في مقام الإمام الرضا (ع)                                    \n",
            "\n",
            "                                        ملك البحرين خلال لقائه بوتين: لا توجد لدينا أيّ مشاكل مع إيران                                    \n",
            "\n",
            "                                        المقاومة الإسلامية في العراق تستهدف أهدافًا حيويّة بميناء حيفا و\"إيلات\" وهدفًا عسكريًا بالجولان                                    \n",
            "\n",
            "                                        فصائل المقاومة تجتمع مع قيادة الحرس الثوري بطهران                                     \n",
            "\n",
            "                                        الجيش الصيني يبدأ مناورات حول تايوان ويعتبرها \"عقوبة قوية لأعمال انفصالية\"                                    \n",
            "\n",
            "                                        التشييع التاريخي للسيد رئيسي ورفاقه الشهداء محور اهتمام الصحف الإيرانية                                    \n",
            "\n",
            "                                        الرئيس الأسد يعزّي مخبر بالسيّد رئيسي: سيبقى خالدًا في ذاكرة الشعب السوري                                    \n",
            "\n",
            "                                        مراسم عزاء في عموم العراق على روح الشهيد رئيسي ورفاقه                                    \n",
            "\n",
            "                                        حشود مليونية تودّع الرئيس الشهيد السيد رئيسي في مختلف المحافظات الإيرانية                                    \n",
            "\n",
            "                                        المقاومة الإسلامية في العراق تستهدف \"إيلات\" بالطيران المسيّر                                    \n",
            "\n",
            "                                        بالصور: الإمام الخامنئي يزور منزل الشهيد السيد رئيسي                                    \n",
            "\n",
            "                                        الإمام الخامنئي: إعلان الحداد العامّ في لبنان دليل انسجام تامّ بين البلدين                                    \n",
            "\n",
            "                                        قادة وممثلو الدول يحضرون مراسم تأبين الشهيد السيد رئيسي ورفاقه في طهران                                    \n",
            "\n",
            "                                        لجنة دعم المقاومة في فلسطين تعزي الإمام الخامنئي بالسيد رئيسي ورفاقه                                    \n",
            "\n",
            "                                        الصين تفرض عقوبات على 12 شركة عسكرية أميركية                                    \n",
            "\n",
            "                                        الإمام الخامنئي يستقبل المعزين باستشهاد السيد رئيسي ورفاقه                                    \n",
            "\n",
            "                                        بالصور: مراسم التشييع وإقامة الصّلاة على جثامين \"شهداء الخدمة\" السيد رئيسي ورفاقه في طهران                                    \n",
            "\n",
            "                                        إيران توضّح أسباب فشل المسيّرة التركية بتحديد موقع حطام المروحية الرئاسية                                    \n",
            "\n",
            "                                        هنيّة خلال تشييع السيد رئيسي ورفاقه: المقاومة مستمرة حتى تحرير كل الأرض                                    \n"
          ]
        }
      ],
      "source": [
        "from bs4 import BeautifulSoup\n",
        "import requests\n",
        "\n",
        "\n",
        "\n",
        "url=f\"https://www.alahednews.com.lb/catdetails.php?catid=116\"\n",
        "result=requests.get(url)\n",
        "doc = BeautifulSoup(result.text,\"html.parser\")\n",
        "gpu_containers = doc.find_all(class_=\"col-md-6\")\n",
        "\n",
        "for title_tag in gpu_containers:\n",
        "  try:\n",
        "    print(title_tag.find(class_=\"card-title\").string)\n",
        "  except:\n",
        "    continue\n",
        "\n",
        "\n",
        "\n",
        "\n"
      ]
    }
  ]
}